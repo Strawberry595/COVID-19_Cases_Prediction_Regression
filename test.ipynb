{
  "nbformat": 4,
  "nbformat_minor": 0,
  "metadata": {
    "colab": {
      "provenance": [],
      "gpuType": "T4",
      "mount_file_id": "1pc4Q81vk5J2mjRQWG3i7mTZdftQRf5G2",
      "authorship_tag": "ABX9TyPTMDBwaDt5LVeTTCMblPzU",
      "include_colab_link": true
    },
    "kernelspec": {
      "name": "python3",
      "display_name": "Python 3"
    },
    "language_info": {
      "name": "python"
    },
    "accelerator": "GPU"
  },
  "cells": [
    {
      "cell_type": "markdown",
      "metadata": {
        "id": "view-in-github",
        "colab_type": "text"
      },
      "source": [
        "<a href=\"https://colab.research.google.com/github/Strawberry595/COVID-19_Cases_Prediction_Regression/blob/main/test.ipynb\" target=\"_parent\"><img src=\"https://colab.research.google.com/assets/colab-badge.svg\" alt=\"Open In Colab\"/></a>"
      ]
    },
    {
      "cell_type": "code",
      "execution_count": 1,
      "metadata": {
        "colab": {
          "base_uri": "https://localhost:8080/"
        },
        "id": "rBxhuDf6Eo2D",
        "outputId": "cfae9171-3547-4af0-da9a-17bb3402de2e"
      },
      "outputs": [
        {
          "output_type": "execute_result",
          "data": {
            "text/plain": [
              "True"
            ]
          },
          "metadata": {},
          "execution_count": 1
        }
      ],
      "source": [
        "import torch\n",
        "torch.cuda.is_available()"
      ]
    },
    {
      "cell_type": "code",
      "source": [
        "!nvidia-smi"
      ],
      "metadata": {
        "colab": {
          "base_uri": "https://localhost:8080/"
        },
        "id": "W45cz2Iv7Svb",
        "outputId": "2c7240e1-4ae1-4e2b-c4d4-926df48f177a"
      },
      "execution_count": 3,
      "outputs": [
        {
          "output_type": "stream",
          "name": "stdout",
          "text": [
            "Thu Sep  4 13:32:51 2025       \n",
            "+-----------------------------------------------------------------------------------------+\n",
            "| NVIDIA-SMI 550.54.15              Driver Version: 550.54.15      CUDA Version: 12.4     |\n",
            "|-----------------------------------------+------------------------+----------------------+\n",
            "| GPU  Name                 Persistence-M | Bus-Id          Disp.A | Volatile Uncorr. ECC |\n",
            "| Fan  Temp   Perf          Pwr:Usage/Cap |           Memory-Usage | GPU-Util  Compute M. |\n",
            "|                                         |                        |               MIG M. |\n",
            "|=========================================+========================+======================|\n",
            "|   0  Tesla T4                       Off |   00000000:00:04.0 Off |                    0 |\n",
            "| N/A   41C    P8              9W /   70W |       0MiB /  15360MiB |      0%      Default |\n",
            "|                                         |                        |                  N/A |\n",
            "+-----------------------------------------+------------------------+----------------------+\n",
            "                                                                                         \n",
            "+-----------------------------------------------------------------------------------------+\n",
            "| Processes:                                                                              |\n",
            "|  GPU   GI   CI        PID   Type   Process name                              GPU Memory |\n",
            "|        ID   ID                                                               Usage      |\n",
            "|=========================================================================================|\n",
            "|  No running processes found                                                             |\n",
            "+-----------------------------------------------------------------------------------------+\n"
          ]
        }
      ]
    },
    {
      "cell_type": "code",
      "source": [],
      "metadata": {
        "id": "SfD_rtQTI9OI"
      },
      "execution_count": null,
      "outputs": []
    },
    {
      "cell_type": "code",
      "source": [
        "cd COVID-19_Cases_Prediction_Regression/"
      ],
      "metadata": {
        "colab": {
          "base_uri": "https://localhost:8080/",
          "height": 112
        },
        "id": "htPzoRxqFLnH",
        "outputId": "a7b9bc59-31e7-4a54-9e43-d2695072ccb2"
      },
      "execution_count": 8,
      "outputs": [
        {
          "output_type": "error",
          "ename": "SyntaxError",
          "evalue": "invalid decimal literal (ipython-input-1861366707.py, line 1)",
          "traceback": [
            "\u001b[0;36m  File \u001b[0;32m\"/tmp/ipython-input-1861366707.py\"\u001b[0;36m, line \u001b[0;32m1\u001b[0m\n\u001b[0;31m    cd COVID-19_Cases_Prediction_Regression/\u001b[0m\n\u001b[0m               ^\u001b[0m\n\u001b[0;31mSyntaxError\u001b[0m\u001b[0;31m:\u001b[0m invalid decimal literal\n"
          ]
        }
      ]
    },
    {
      "cell_type": "code",
      "source": [
        "!pwd\n",
        "!mkdir data"
      ],
      "metadata": {
        "colab": {
          "base_uri": "https://localhost:8080/"
        },
        "id": "sgbHATjSFjuy",
        "outputId": "f53940ff-0137-4e51-f4ca-5c28dd8bedba"
      },
      "execution_count": 10,
      "outputs": [
        {
          "output_type": "stream",
          "name": "stdout",
          "text": [
            "/content/COVID-19_Cases_Prediction_Regression\n"
          ]
        }
      ]
    },
    {
      "cell_type": "code",
      "source": [
        "cd data/\n"
      ],
      "metadata": {
        "colab": {
          "base_uri": "https://localhost:8080/"
        },
        "id": "Rw_vd6RNFsnD",
        "outputId": "34678f6f-1786-44d3-aaa2-aa39f0571760"
      },
      "execution_count": 12,
      "outputs": [
        {
          "output_type": "stream",
          "name": "stdout",
          "text": [
            "/content/COVID-19_Cases_Prediction_Regression/data\n"
          ]
        }
      ]
    },
    {
      "cell_type": "code",
      "source": [
        "# dropbox link\n",
        "!wget -O covid_train.csv https://www.dropbox.com/s/lmy1riadzoy0ahw/covid.train.csv?dl=0\n",
        "!wget -O covid_test.csv https://www.dropbox.com/s/zalbw42lu4nmhr2/covid.test.csv?dl=0"
      ],
      "metadata": {
        "colab": {
          "base_uri": "https://localhost:8080/"
        },
        "id": "gRTyiH9QF4IV",
        "outputId": "5f1ac57c-5741-48d6-c492-ee80cd52c166"
      },
      "execution_count": 13,
      "outputs": [
        {
          "output_type": "stream",
          "name": "stdout",
          "text": [
            "--2025-09-04 14:18:09--  https://www.dropbox.com/s/lmy1riadzoy0ahw/covid.train.csv?dl=0\n",
            "Resolving www.dropbox.com (www.dropbox.com)... 162.125.5.18, 2620:100:601d:18::a27d:512\n",
            "Connecting to www.dropbox.com (www.dropbox.com)|162.125.5.18|:443... connected.\n",
            "HTTP request sent, awaiting response... 302 Found\n",
            "Location: https://www.dropbox.com/scl/fi/ewl0ff7lviu0s7f53jp9o/covid.train.csv?rlkey=pocojbo26thh2ncv0xkxfafiv&dl=0 [following]\n",
            "--2025-09-04 14:18:10--  https://www.dropbox.com/scl/fi/ewl0ff7lviu0s7f53jp9o/covid.train.csv?rlkey=pocojbo26thh2ncv0xkxfafiv&dl=0\n",
            "Reusing existing connection to www.dropbox.com:443.\n",
            "HTTP request sent, awaiting response... 302 Found\n",
            "Location: https://uc943f407c53205f199bf7cddc28.dl.dropboxusercontent.com/cd/0/inline/CwsOt6aRl8rdzWq576DOCe4QW69-Fyj1g-oH4x_fBym0Sebz0hQKiDJ8rJtSowG9tljLEiE9zRHblA_WR454EFrzmwy8NbXDmcf75LfIpAOOwO5wjWsLLAjnRSadm8OziiHn5NNIB3pTeeRqoYvC7uix/file# [following]\n",
            "--2025-09-04 14:18:10--  https://uc943f407c53205f199bf7cddc28.dl.dropboxusercontent.com/cd/0/inline/CwsOt6aRl8rdzWq576DOCe4QW69-Fyj1g-oH4x_fBym0Sebz0hQKiDJ8rJtSowG9tljLEiE9zRHblA_WR454EFrzmwy8NbXDmcf75LfIpAOOwO5wjWsLLAjnRSadm8OziiHn5NNIB3pTeeRqoYvC7uix/file\n",
            "Resolving uc943f407c53205f199bf7cddc28.dl.dropboxusercontent.com (uc943f407c53205f199bf7cddc28.dl.dropboxusercontent.com)... 162.125.5.15, 2620:100:601d:15::a27d:50f\n",
            "Connecting to uc943f407c53205f199bf7cddc28.dl.dropboxusercontent.com (uc943f407c53205f199bf7cddc28.dl.dropboxusercontent.com)|162.125.5.15|:443... connected.\n",
            "HTTP request sent, awaiting response... 200 OK\n",
            "Length: 2162766 (2.1M) [text/plain]\n",
            "Saving to: ‘covid_train.csv’\n",
            "\n",
            "covid_train.csv     100%[===================>]   2.06M  --.-KB/s    in 0.1s    \n",
            "\n",
            "2025-09-04 14:18:11 (16.5 MB/s) - ‘covid_train.csv’ saved [2162766/2162766]\n",
            "\n",
            "--2025-09-04 14:18:11--  https://www.dropbox.com/s/zalbw42lu4nmhr2/covid.test.csv?dl=0\n",
            "Resolving www.dropbox.com (www.dropbox.com)... 162.125.5.18, 2620:100:601d:18::a27d:512\n",
            "Connecting to www.dropbox.com (www.dropbox.com)|162.125.5.18|:443... connected.\n",
            "HTTP request sent, awaiting response... 302 Found\n",
            "Location: https://www.dropbox.com/scl/fi/0dewy98wqemuhraq1pi9s/covid.test.csv?rlkey=6x7r7z3hq8pvquke1bj8rqwgo&dl=0 [following]\n",
            "--2025-09-04 14:18:11--  https://www.dropbox.com/scl/fi/0dewy98wqemuhraq1pi9s/covid.test.csv?rlkey=6x7r7z3hq8pvquke1bj8rqwgo&dl=0\n",
            "Reusing existing connection to www.dropbox.com:443.\n",
            "HTTP request sent, awaiting response... 302 Found\n",
            "Location: https://ucd7dfef7c23fdd8e3292aa5f622.dl.dropboxusercontent.com/cd/0/inline/Cwsvahe_yKeuuvQ4Mhf3vdHsA_0qu1E6XZo0Yv7atC5D930w0G9evUVFC_NivRIwPX6rxzc5mjyihRHGLJbezDzx4GW634IjLUmlpMg5CO4jl5AUp-HPuJJv8Fwn3hs5Ikb97sDcv4qnhfl4hPqt411e/file# [following]\n",
            "--2025-09-04 14:18:11--  https://ucd7dfef7c23fdd8e3292aa5f622.dl.dropboxusercontent.com/cd/0/inline/Cwsvahe_yKeuuvQ4Mhf3vdHsA_0qu1E6XZo0Yv7atC5D930w0G9evUVFC_NivRIwPX6rxzc5mjyihRHGLJbezDzx4GW634IjLUmlpMg5CO4jl5AUp-HPuJJv8Fwn3hs5Ikb97sDcv4qnhfl4hPqt411e/file\n",
            "Resolving ucd7dfef7c23fdd8e3292aa5f622.dl.dropboxusercontent.com (ucd7dfef7c23fdd8e3292aa5f622.dl.dropboxusercontent.com)... 162.125.5.15, 2620:100:601d:15::a27d:50f\n",
            "Connecting to ucd7dfef7c23fdd8e3292aa5f622.dl.dropboxusercontent.com (ucd7dfef7c23fdd8e3292aa5f622.dl.dropboxusercontent.com)|162.125.5.15|:443... connected.\n",
            "HTTP request sent, awaiting response... 200 OK\n",
            "Length: 638359 (623K) [text/plain]\n",
            "Saving to: ‘covid_test.csv’\n",
            "\n",
            "covid_test.csv      100%[===================>] 623.40K  --.-KB/s    in 0.09s   \n",
            "\n",
            "2025-09-04 14:18:12 (6.70 MB/s) - ‘covid_test.csv’ saved [638359/638359]\n",
            "\n"
          ]
        }
      ]
    },
    {
      "cell_type": "code",
      "source": [
        "cd ../\n",
        "echo \"# COVID-19_Cases_Prediction_Regression\" >> README.md\n",
        "git init\n",
        "git add README.md\n",
        "git commit -m \"first commit\"\n",
        "git branch -M main\n",
        "git remote add origin git@github.com:Strawberry595/COVID-19_Cases_Prediction_Regression.git\n",
        "git push -u origin main"
      ],
      "metadata": {
        "colab": {
          "base_uri": "https://localhost:8080/",
          "height": 130
        },
        "id": "BZxuB-XPHN08",
        "outputId": "a690825a-10ae-49df-86a8-c37826c2cdcf"
      },
      "execution_count": 14,
      "outputs": [
        {
          "output_type": "error",
          "ename": "SyntaxError",
          "evalue": "invalid decimal literal (ipython-input-3040427789.py, line 7)",
          "traceback": [
            "\u001b[0;36m  File \u001b[0;32m\"/tmp/ipython-input-3040427789.py\"\u001b[0;36m, line \u001b[0;32m7\u001b[0m\n\u001b[0;31m    git remote add origin git@github.com:Strawberry595/COVID-19_Cases_Prediction_Regression.git\u001b[0m\n\u001b[0m                                                               ^\u001b[0m\n\u001b[0;31mSyntaxError\u001b[0m\u001b[0;31m:\u001b[0m invalid decimal literal\n"
          ]
        }
      ]
    }
  ]
}